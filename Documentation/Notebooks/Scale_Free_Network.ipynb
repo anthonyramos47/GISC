{
  "nbformat": 4,
  "nbformat_minor": 0,
  "metadata": {
    "colab": {
      "name": "Scale-free network.ipynb",
      "provenance": [],
      "collapsed_sections": []
    },
    "kernelspec": {
      "name": "python3",
      "display_name": "Python 3"
    }
  },
  "cells": [
    {
      "cell_type": "markdown",
      "metadata": {
        "id": "QyRIIDyTUXpm",
        "colab_type": "text"
      },
      "source": [
        "# Scale-free network\n",
        "\n",
        "The present notebook details some definitions and an topology implementation of Scale-Free network. Moreover, for another explanation see: [Introduction Videos](https://www.youtube.com/watch?v=pYMsI-8GsxI)\n",
        "\n",
        "## Definition\n",
        "A network is called scale-free if the characteristics of the network are independent of the size of the network, i.e. the number of nodes. That means that when the network grows, the underlying structure remains the same.\n",
        "\n",
        "<img src=\"https://farm6.staticflickr.com/5572/14840495571_81ca4e1ebe_o.png\" width=\"400\" >\n",
        "\n",
        "A scale-free network is defined by the distribution of the number of edges of the nodes following a so called power law distribution. That is, the fraction P(k) of nodes in the network having k connections to other nodes goes for large values of k as\n",
        "\n",
        "$${\\displaystyle P(k)\\ \\sim \\ k^{\\boldsymbol {-\\gamma }}}$$\n",
        "\n",
        "where ${\\displaystyle \\gamma }$ is a parameter whose value is typically in the range $2 < \\displaystyle \\gamma  < 3$. [Wiki](https://en.wikipedia.org/wiki/Scale-free_network)"
      ]
    },
    {
      "cell_type": "markdown",
      "metadata": {
        "id": "wQymHNhXBvr6",
        "colab_type": "text"
      },
      "source": [
        "## Difference between power-law and normal distributions\n",
        "\n",
        "A crucial difference between the normal and power-law distribution is that the number of nodes with really high numbers of edges is much higher in the power-law distribution than in the normal distribution. But generally well connected nodes are more common in a normal distribution.\n",
        "\n",
        "<img src=\"https://farm4.staticflickr.com/3878/14820775726_dd8b85ae27_o.png\" width=\"400\" >\n",
        "\n",
        "The normal distribution is less frequently observed in networks. This is the case because the distribution of edges in a network is mostly not the result of the sequence of independent quantities. Networks grow over time."
      ]
    },
    {
      "cell_type": "markdown",
      "metadata": {
        "id": "ICcpSA-G8-30",
        "colab_type": "text"
      },
      "source": [
        "## Growth and Preferential Attachment\n",
        "\n",
        "There are two major components that explain the emergence of the scale-free property in a complex networks: the growth and the preferential attachment:\n",
        "\n",
        "\n",
        "1. **Growth**: a growth process where over an extended period of time, new nodes join an already existing system, a network.\n",
        "2. **Preferential Attachment**: is called a new coming node who prefers to connect to another node which has already a certain number of links with others. \n",
        "\n",
        "Thus, there is a higher probability that more and more nodes will link themselves to that one which has already many links, leading this node to a **hub** in-fine. Depending on the network, the hubs might either be assortative or disassortative.\n",
        "\n",
        "Preferential attachment looks like a plausible hypothesis for social networks in particular. It is attractive to be connected to people who are already highly connected.\n",
        "\n",
        "\n",
        "\n"
      ]
    },
    {
      "cell_type": "markdown",
      "metadata": {
        "id": "s3g3U4sT-TIV",
        "colab_type": "text"
      },
      "source": [
        "## Properties\n",
        "\n",
        "*   **Fault tolerant.** Large scale-free networks are not vulnerable to random attacks at nodes. They are vulnerable to targeted attacks at the few **hub** nodes. But the network will often not lose connectedness if one hub fails, due to the fact that other hubs remain. \n",
        "\n",
        "*   **Fractal-like.** Large scale-free networks present a fractal-like property by the associated power law distribution.\n",
        "\n",
        "*   **Small World Properties.** Large scale-free networks present small wall properties such as:\n",
        "  * Low average distances between nodes.\n",
        "  * High clustering\n",
        "  * Small worl principle: any node is on average connected to any other in a small number of steps.\n",
        "  \n",
        "* **Generative Mechanism.** The more specific characteristics of scale-free networks vary with the generative mechanism used to create them. For instance, according to the place of the first high-degree nodes (hubs), we could place these nodes in the **middle**, or in the **periphery** of the network\n",
        "\n"
      ]
    },
    {
      "cell_type": "markdown",
      "metadata": {
        "id": "clpu8iOBlBC7",
        "colab_type": "text"
      },
      "source": [
        "## Code Implementation\n",
        "\n"
      ]
    },
    {
      "cell_type": "markdown",
      "metadata": {
        "id": "KWatMWc9lUEK",
        "colab_type": "text"
      },
      "source": [
        "### Libraries\n",
        "\n",
        "First, we import some important libraries. Here, we export a library known as Networkx to simplify the procedures. See the following link for references [Networkx Documentation](https://networkx.github.io/documentation/stable/tutorial.html)"
      ]
    },
    {
      "cell_type": "code",
      "metadata": {
        "id": "n1JO082IUW09",
        "colab_type": "code",
        "colab": {}
      },
      "source": [
        "import networkx as nx\n",
        "import matplotlib.pyplot as plt\n",
        "import numpy as np\n",
        "%matplotlib inline\n"
      ],
      "execution_count": 48,
      "outputs": []
    },
    {
      "cell_type": "markdown",
      "metadata": {
        "id": "VvoMignFlmRS",
        "colab_type": "text"
      },
      "source": [
        "In this part, we created a ScaleFreeNetwork class for the implementation. This class inherits of the Graph class of Networkx library.\n",
        "\n",
        "For the graph creation, we start form the assumption that the Scale Free Network can be create using a pre-created graph until get a total number of $N$ nodes (considering the nodes of the pre-created graph and the new added nodes). In this way, if no pre-created graph is defined, the more basic process creates a Scale-Free Network using a graph with two connected nodes as base.\n",
        "\n",
        "This scale-free network is constructed by progressively adding nodes to an existing network and introducing links to existing nodes with preferential attachment so that the probability of linking to a given node $i$ is proportional to the number of existing links $k_i$ that node has\n",
        "\n",
        "$$P(\\text{linking to node i}) \\sim \\frac{k_i}{\\sum_j k_j}$$"
      ]
    },
    {
      "cell_type": "code",
      "metadata": {
        "id": "J5SJpMi_gT_T",
        "colab_type": "code",
        "colab": {}
      },
      "source": [
        "class ScaleFreeNetwork(nx.Graph):\n",
        "  def __init__(self, N , pre_created_graph = None):\n",
        "    \"\"\"Define a scale free network with N total number of nodes. \n",
        "      Also, you can provide a pre-created graph to add new nodes\n",
        "      in the sense of a ScaleFree Network.\n",
        "    \"\"\"\n",
        "    nx.Graph.__init__(self)  #import the attributes of the super class\n",
        "    if (pre_created_graph is None):\n",
        "      self.add_node(0)\n",
        "      self.add_node(1)\n",
        "      self.add_edge(0,1)\n",
        "    else:\n",
        "      self.add_nodes_from(pre_created_graph.nodes)\n",
        "      self.add_edges_from(pre_created_graph.edges)\n",
        "\n",
        "    self.N = N\n",
        "    self.__create_graph()\n",
        "\n",
        "  #Create the graph of the network given the N total number of nodes\n",
        "  #This network starts from a graph with two connected nodes or a specific pre-created graph\n",
        "  def __create_graph(self):\n",
        "    \"\"\"Create a scale-free graph with N nodes.\n",
        "       The graph starts with some nodes, and continues adding \n",
        "       new nodes until get a total of N nodes. \n",
        "    \"\"\"\n",
        "    num_nodes = len(self.nodes)\n",
        "\n",
        "    if (self.N <= num_nodes):\n",
        "      print(\"INCORRECT: Set values of N > {0}\".format(num_nodes))\n",
        "      return\n",
        "\n",
        "\n",
        "    for new_node in range(num_nodes,self.N):\n",
        "        self.__adding_edges(new_node)\n",
        "\n",
        "  def __adding_edges(self,new_node):\n",
        "    \"\"\"Defines the neighbors of the new node.Each node of the graph has a probability\n",
        "          p = k_i / sum_k_j\n",
        "       of being selected, where k_i is the connections of the i-node and\n",
        "       cum_k_j is the cumulative connections of all the nodes of the graph. \"\"\"\n",
        "\n",
        "\n",
        "    sum_k_j = 0\n",
        "    for node , _ in self.nodes.items():\n",
        "      k_j = len(list(self.neighbors(node))) #the links of each node\n",
        "      sum_k_j += k_j\n",
        "\n",
        "    probabilities = []\n",
        "    for node , _ in self.nodes.items():\n",
        "      k_i = len(list(self.neighbors(node))) #the links of each node\n",
        "      prob = k_i / sum_k_j\n",
        "      probabilities.append(prob)\n",
        "\n",
        "    # we use the np.random.choice function that selects a random number in the list\n",
        "    # based on probabilities\n",
        "    random_neighbor = np.random.choice(a=list(self.nodes), p=probabilities)\n",
        "    \n",
        "    self.add_edge(new_node,random_neighbor) \n",
        "\n",
        "  #Function to plot the structure of the network\n",
        "  def draw_network(self,node_color='blue', node_size=25, with_labels=False):\n",
        "    \"\"\"\n",
        "    Draw the graph.\n",
        "        \n",
        "    node_size: the size of all the nodes\n",
        "    node_color: the coloe of all the nodes\n",
        "    with_labels: True or False to show the ids of the nodes\n",
        "    \"\"\"\n",
        "    nx.draw(self, node_color=node_color, node_size=node_size, with_labels=with_labels)\n",
        "    plt.draw()\n",
        "    plt.show()\n",
        "\n",
        "    \n",
        "    \n",
        "    \n"
      ],
      "execution_count": 126,
      "outputs": []
    },
    {
      "cell_type": "markdown",
      "metadata": {
        "id": "qSqRrpHvI43R",
        "colab_type": "text"
      },
      "source": [
        "Creating a network a plotting the topology"
      ]
    },
    {
      "cell_type": "code",
      "metadata": {
        "id": "hbVbdFD298X6",
        "colab_type": "code",
        "colab": {
          "base_uri": "https://localhost:8080/",
          "height": 319
        },
        "outputId": "6dc060bc-087f-45d5-81b4-830787f01d10"
      },
      "source": [
        "SFN = ScaleFreeNetwork(100)\n",
        "SFN.draw_network()\n"
      ],
      "execution_count": 133,
      "outputs": [
        {
          "output_type": "display_data",
          "data": {
            "image/png": "[encoded data removed]",
            "text/plain": [
              "<Figure size 432x288 with 1 Axes>"
            ]
          },
          "metadata": {
            "tags": []
          }
        }
      ]
    },
    {
      "cell_type": "markdown",
      "metadata": {
        "id": "yjhW1lX5gPyT",
        "colab_type": "text"
      },
      "source": [
        "### Authorship\n",
        "\n",
        "*   Oscar Guarnizo\n",
        "*   Anthony Ramos\n",
        "\n"
      ]
    }
  ]
}