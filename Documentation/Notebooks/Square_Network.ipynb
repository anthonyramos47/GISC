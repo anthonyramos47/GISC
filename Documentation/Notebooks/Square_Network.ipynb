{
  "nbformat": 4,
  "nbformat_minor": 0,
  "metadata": {
    "colab": {
      "name": "Square Network.ipynb",
      "provenance": [],
      "collapsed_sections": []
    },
    "kernelspec": {
      "name": "python3",
      "display_name": "Python 3"
    }
  },
  "cells": [
    {
      "cell_type": "markdown",
      "metadata": {
        "id": "9cwFpfbeH_iM",
        "colab_type": "text"
      },
      "source": [
        "# Square Network\n",
        "\n",
        "In this notebook, there is code representation of an Square Network (Lattice) where each node has at most four neighbors. The network is initialized with $height$ and $width$ measures, where the total number of node is $height * width$."
      ]
    },
    {
      "cell_type": "markdown",
      "metadata": {
        "id": "e8vWi5eZKAPZ",
        "colab_type": "text"
      },
      "source": [
        "## Libraries\n",
        "\n",
        "First, we import some important libraries. Here, we export a library known as Networkx to simplify the procedures. See the following link for references [Networkx Documentation](https://networkx.github.io/documentation/stable/tutorial.html)"
      ]
    },
    {
      "cell_type": "code",
      "metadata": {
        "id": "d7ItPZJgJ_bh",
        "colab_type": "code",
        "colab": {}
      },
      "source": [
        "import networkx as nx\n",
        "import matplotlib.pyplot as plt\n",
        "%matplotlib inline"
      ],
      "execution_count": 1,
      "outputs": []
    },
    {
      "cell_type": "markdown",
      "metadata": {
        "id": "uK00tl9xJ7Fz",
        "colab_type": "text"
      },
      "source": [
        "We defined the class node with the attributes needed to the used dynamic. However, if there are few attributes, it could be better to define the attributes in the addition of a new node."
      ]
    },
    {
      "cell_type": "code",
      "metadata": {
        "id": "bBBlsrMTH70F",
        "colab_type": "code",
        "colab": {}
      },
      "source": [
        "class Node():\n",
        "  def __init__(self, state = 0):\n",
        "    #Here we can some attributes than can be useful according to the used dynamic\n",
        "    self.state = state\n",
        "\n",
        "  #Function to describe the class when I call an object with print \n",
        "  def __str__(self):\n",
        "    return \"state={0}\".format(self.state)\n",
        "\n",
        "  #Function to describe the class when I call an object of this class in the prompt\n",
        "  def __repr__(self):\n",
        "    return \"<Node: state={0}>\".format(self.state)"
      ],
      "execution_count": 3,
      "outputs": []
    },
    {
      "cell_type": "markdown",
      "metadata": {
        "id": "R0iARVOpLPX0",
        "colab_type": "text"
      },
      "source": [
        "Then, we defined the a network class. This class inherits of the Graph class of Networkx library. We use this library for access to functions that facilitates network operations. These could be used in future implementation for control the dynamic of the network."
      ]
    },
    {
      "cell_type": "code",
      "metadata": {
        "id": "QZ44Dj5WLdZy",
        "colab_type": "code",
        "colab": {}
      },
      "source": [
        "\n",
        "class SquareNetwork(nx.Graph):\n",
        "  def __init__(self, height, width ):\n",
        "    \"\"\"Define a square network with height x width nodes.\n",
        "    \"\"\"\n",
        "    self.height = height\n",
        "    self.width = width\n",
        "    nx.Graph.__init__(self)  #import the attributes of the super class\n",
        "    self.__create_graph()\n",
        "\n",
        "  #Create the graph of the network given a height and width value\n",
        "  def __create_graph(self):\n",
        "    \"\"\"Create a square graph with heigh x width nodes.\n",
        "    \"\"\"\n",
        "    if (self.height < 2 or self.width < 2):\n",
        "      print(\"INCORRECT: Set values of height or width >= 2\")\n",
        "      return\n",
        "\n",
        "    self.clear() # Remove all the nodes and edges of the last graph\n",
        "    current_node = 0\n",
        "    for i in range(self.width):\n",
        "      for j in range(self.height):  \n",
        "\n",
        "          self.__adding_edges(i,j,current_node)\n",
        "\n",
        "          #Adding neighbors to each node\n",
        "          #Adding the node to the network\n",
        "          #NOTE: Here if there are few attributes in a node, we can defined\n",
        "          #the attributes in this part. So, we will use state=0 instead \n",
        "          #of data=node\n",
        "          self.add_node(current_node, pos=(i,j)) \n",
        "          current_node +=1\n",
        "\n",
        "  #Function to define the neihbors per node\n",
        "  def __adding_edges(self,i,j,current_node):\n",
        "    \"\"\"Defines the neighbors of the current node\"\"\"\n",
        "    #There are four possible connection\n",
        "    directions = {\n",
        "        \"up\" : current_node + 1,\n",
        "        \"down\" : current_node - 1,\n",
        "        \"left\" : current_node - self.height,\n",
        "        \"right\" : current_node + self.height\n",
        "    }\n",
        "\n",
        "    #For border cases of the network, we have to pop some connections\n",
        "    if i == 0:\n",
        "      directions.pop(\"left\")\n",
        "    if i == self.width - 1:\n",
        "      directions.pop(\"right\")\n",
        "    if j == 0:\n",
        "      directions.pop(\"down\")\n",
        "    if j == self.height - 1:\n",
        "      directions.pop(\"up\")\n",
        "\n",
        "    for _, neighbor in directions.items():\n",
        "      self.add_edge(current_node, neighbor)\n",
        "\n",
        "\n",
        "  #Function to plot the structure of the network\n",
        "  def draw_network(self,node_color='blue', node_size=25, with_labels=False):\n",
        "    \"\"\"\n",
        "    Draw the graph in a circular mode.\n",
        "        \n",
        "    node_size: the size of all the nodes\n",
        "    node_color: the colo of all the nodes\n",
        "    with_labels: True or False to show the ids of the nodes\n",
        "    \"\"\"\n",
        "    pos = nx.get_node_attributes(self, 'pos')\n",
        "    nx.draw(self, pos, node_color=node_color, node_size=node_size, with_labels=with_labels)\n",
        "    plt.draw()\n",
        "    plt.show()"
      ],
      "execution_count": 4,
      "outputs": []
    },
    {
      "cell_type": "markdown",
      "metadata": {
        "id": "fwYWQenV-JKa",
        "colab_type": "text"
      },
      "source": [
        "Creating a network a plotting the topology"
      ]
    },
    {
      "cell_type": "code",
      "metadata": {
        "id": "cemoPj17NLE8",
        "colab_type": "code",
        "colab": {
          "base_uri": "https://localhost:8080/",
          "height": 319
        },
        "outputId": "0b75c4aa-f631-49a3-843d-b09f8a19cbcc"
      },
      "source": [
        "G = SquareNetwork(height=5,width=4)\n",
        "G.draw_network()"
      ],
      "execution_count": 5,
      "outputs": [
        {
          "output_type": "display_data",
          "data": {
            "image/png": "[encoded data removed]",
            "text/plain": [
              "<Figure size 432x288 with 1 Axes>"
            ]
          },
          "metadata": {
            "tags": []
          }
        }
      ]
    },
    {
      "cell_type": "markdown",
      "metadata": {
        "id": "xgWjHx_l-NOp",
        "colab_type": "text"
      },
      "source": [
        "Check the nodes and edges of the graph. Also check the attributes of each node."
      ]
    },
    {
      "cell_type": "code",
      "metadata": {
        "id": "CrpSgmyY-RAh",
        "colab_type": "code",
        "colab": {
          "base_uri": "https://localhost:8080/",
          "height": 742
        },
        "outputId": "3fa3a37d-3573-4590-f4bb-85c5b0039e6e"
      },
      "source": [
        "#Check nodes and edges\n",
        "print(list(G.nodes))\n",
        "print(list(G.edges))\n",
        "\n",
        "\n",
        "#Check nodes' attributes\n",
        "nodes_attributes = nx.get_node_attributes(G,'data')\n",
        "\n",
        "for k,v in nodes_attributes.items():\n",
        "  print(\"Node {0} with state {1}\".format(k, v.state))\n",
        "\n",
        "#Check nodes' neighbors\n",
        "for node, neighbors in G.adj.items():\n",
        "  print(\"Node {0} and neighbors: {1}\".format(node, list(neighbors)))\n"
      ],
      "execution_count": null,
      "outputs": [
        {
          "output_type": "stream",
          "text": [
            "[0, 1, 5, 2, 6, 3, 7, 4, 8, 9, 10, 11, 12, 13, 14, 15, 16, 17, 18, 19]\n",
            "[(0, 1), (0, 5), (1, 2), (1, 6), (5, 6), (5, 10), (2, 3), (2, 7), (6, 7), (6, 11), (3, 4), (3, 8), (7, 8), (7, 12), (4, 9), (8, 9), (8, 13), (9, 14), (10, 11), (10, 15), (11, 12), (11, 16), (12, 13), (12, 17), (13, 14), (13, 18), (14, 19), (15, 16), (16, 17), (17, 18), (18, 19)]\n",
            "Node 0 with state 0\n",
            "Node 1 with state 0\n",
            "Node 5 with state 0\n",
            "Node 2 with state 0\n",
            "Node 6 with state 0\n",
            "Node 3 with state 0\n",
            "Node 7 with state 0\n",
            "Node 4 with state 0\n",
            "Node 8 with state 0\n",
            "Node 9 with state 0\n",
            "Node 10 with state 0\n",
            "Node 11 with state 0\n",
            "Node 12 with state 0\n",
            "Node 13 with state 0\n",
            "Node 14 with state 0\n",
            "Node 15 with state 0\n",
            "Node 16 with state 0\n",
            "Node 17 with state 0\n",
            "Node 18 with state 0\n",
            "Node 19 with state 0\n",
            "Node 0 and neighbors: [1, 5]\n",
            "Node 1 and neighbors: [0, 2, 6]\n",
            "Node 5 and neighbors: [0, 6, 10]\n",
            "Node 2 and neighbors: [1, 3, 7]\n",
            "Node 6 and neighbors: [1, 5, 7, 11]\n",
            "Node 3 and neighbors: [2, 4, 8]\n",
            "Node 7 and neighbors: [2, 6, 8, 12]\n",
            "Node 4 and neighbors: [3, 9]\n",
            "Node 8 and neighbors: [3, 7, 9, 13]\n",
            "Node 9 and neighbors: [4, 8, 14]\n",
            "Node 10 and neighbors: [5, 11, 15]\n",
            "Node 11 and neighbors: [6, 10, 12, 16]\n",
            "Node 12 and neighbors: [7, 11, 13, 17]\n",
            "Node 13 and neighbors: [8, 12, 14, 18]\n",
            "Node 14 and neighbors: [9, 13, 19]\n",
            "Node 15 and neighbors: [10, 16]\n",
            "Node 16 and neighbors: [11, 15, 17]\n",
            "Node 17 and neighbors: [12, 16, 18]\n",
            "Node 18 and neighbors: [13, 17, 19]\n",
            "Node 19 and neighbors: [14, 18]\n"
          ],
          "name": "stdout"
        }
      ]
    }
  ]
}